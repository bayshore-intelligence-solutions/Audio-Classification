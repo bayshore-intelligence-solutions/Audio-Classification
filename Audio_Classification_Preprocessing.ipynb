{
 "cells": [
  {
   "cell_type": "markdown",
   "metadata": {},
   "source": [
    "# Urban Sound Classification\n",
    "## Data Description\n",
    "The dataset contains 8732 labeled sound excerpts (<=4s) of urban sounds from 10 classes: - \n",
    "- Air Conditioner \n",
    "- Car Horn \n",
    "- Children Playing \n",
    "- Dog bark \n",
    "- Drilling \n",
    "- Engine Idling \n",
    "- Gun Shot \n",
    "- Jackhammer \n",
    "- Siren Street \n",
    "- Music "
   ]
  },
  {
   "cell_type": "code",
   "execution_count": 3,
   "metadata": {
    "_cell_guid": "b1076dfc-b9ad-4769-8c92-a6c4dae69d19",
    "_uuid": "8f2839f25d086af736a60e9eeb907d3b93b6e0e5"
   },
   "outputs": [
    {
     "name": "stdout",
     "output_type": "stream",
     "text": [
      "['img', 'test.csv', 'train.csv', 'train', 'test']\n"
     ]
    }
   ],
   "source": [
    "# This Python 3 environment comes with many helpful analytics libraries installed\n",
    "# It is defined by the kaggle/python docker image: https://github.com/kaggle/docker-python\n",
    "# For example, here's several helpful packages to load in \n",
    "\n",
    "import numpy as np # linear algebra\n",
    "import pandas as pd # data processing, CSV file I/O (e.g. pd.read_csv)\n",
    "\n",
    "# Input data files are available in the \"../input/\" directory.\n",
    "# For example, running this (by clicking run or pressing Shift+Enter) will list the files in the input directory\n",
    "\n",
    "import os\n",
    "import glob\n",
    "\n",
    "print(os.listdir(\"urban-sound-classification\"))\n",
    "\n",
    "# Any results you write to the current directory are saved as output."
   ]
  },
  {
   "cell_type": "code",
   "execution_count": 4,
   "metadata": {},
   "outputs": [
    {
     "name": "stdout",
     "output_type": "stream",
     "text": [
      "Train Size:  (5435, 2)\n",
      "Test Size:  (3297, 1)\n"
     ]
    }
   ],
   "source": [
    "df_train = pd.read_csv('urban-sound-classification/train.csv')\n",
    "df_test = pd.read_csv('urban-sound-classification/test.csv')\n",
    "\n",
    "print('Train Size: ', df_train.shape)\n",
    "print('Test Size: ', df_test.shape)"
   ]
  },
  {
   "cell_type": "code",
   "execution_count": 5,
   "metadata": {},
   "outputs": [
    {
     "data": {
      "text/html": [
       "<div>\n",
       "<style scoped>\n",
       "    .dataframe tbody tr th:only-of-type {\n",
       "        vertical-align: middle;\n",
       "    }\n",
       "\n",
       "    .dataframe tbody tr th {\n",
       "        vertical-align: top;\n",
       "    }\n",
       "\n",
       "    .dataframe thead th {\n",
       "        text-align: right;\n",
       "    }\n",
       "</style>\n",
       "<table border=\"1\" class=\"dataframe\">\n",
       "  <thead>\n",
       "    <tr style=\"text-align: right;\">\n",
       "      <th></th>\n",
       "      <th>ID</th>\n",
       "      <th>Class</th>\n",
       "    </tr>\n",
       "  </thead>\n",
       "  <tbody>\n",
       "    <tr>\n",
       "      <th>0</th>\n",
       "      <td>0</td>\n",
       "      <td>siren</td>\n",
       "    </tr>\n",
       "    <tr>\n",
       "      <th>1</th>\n",
       "      <td>1</td>\n",
       "      <td>street_music</td>\n",
       "    </tr>\n",
       "    <tr>\n",
       "      <th>2</th>\n",
       "      <td>2</td>\n",
       "      <td>drilling</td>\n",
       "    </tr>\n",
       "    <tr>\n",
       "      <th>3</th>\n",
       "      <td>3</td>\n",
       "      <td>siren</td>\n",
       "    </tr>\n",
       "    <tr>\n",
       "      <th>4</th>\n",
       "      <td>4</td>\n",
       "      <td>dog_bark</td>\n",
       "    </tr>\n",
       "  </tbody>\n",
       "</table>\n",
       "</div>"
      ],
      "text/plain": [
       "   ID         Class\n",
       "0   0         siren\n",
       "1   1  street_music\n",
       "2   2      drilling\n",
       "3   3         siren\n",
       "4   4      dog_bark"
      ]
     },
     "execution_count": 5,
     "metadata": {},
     "output_type": "execute_result"
    }
   ],
   "source": [
    "df_train.head()"
   ]
  },
  {
   "cell_type": "code",
   "execution_count": 43,
   "metadata": {},
   "outputs": [],
   "source": [
    "LABELS = df_train.Class.unique()"
   ]
  },
  {
   "cell_type": "code",
   "execution_count": 20,
   "metadata": {
    "_cell_guid": "79c7e3d0-c299-4dcb-8224-4455121ee9b0",
    "_uuid": "d629ff2d2480ee46fbb7e2d37f6b5fab8052498a"
   },
   "outputs": [],
   "source": [
    "import librosa,librosa.display\n",
    "import matplotlib.pyplot as plt\n",
    "\n",
    "# Loading audio file\n",
    "def load_file(sound_file):\n",
    "    data, sr = librosa.load(sound_file)\n",
    "    return data, sr"
   ]
  },
  {
   "cell_type": "code",
   "execution_count": 11,
   "metadata": {},
   "outputs": [],
   "source": [
    "def get_features(sound_file):\n",
    "    data,sr = load_file(sound_file)\n",
    "    stft = np.abs(librosa.stft(data.astype('float32')))\n",
    "    mfccs = np.mean(librosa.feature.mfcc(y=data.astype('float32'), sr=sr, n_mfcc=40).T,axis=0)\n",
    "    chroma = np.mean(librosa.feature.chroma_stft(S=stft, sr=sr).T,axis=0)\n",
    "    mel = np.mean(librosa.feature.melspectrogram(data.astype('float32'), sr=sr).T,axis=0)\n",
    "    contrast = np.mean(librosa.feature.spectral_contrast(S=stft, sr=sr).T,axis=0)\n",
    "    tonnetz = np.mean(librosa.feature.tonnetz(y=librosa.effects.harmonic(data.astype('float32')),\n",
    "    sr=sr).T,axis=0)\n",
    "    return mfccs,chroma,mel,contrast,tonnetz"
   ]
  },
  {
   "cell_type": "code",
   "execution_count": 13,
   "metadata": {},
   "outputs": [],
   "source": [
    "def parse_sound_files(sound_file_dir):\n",
    "    features, labels = np.empty((0,193)), np.empty(0)\n",
    "    li = glob.glob(str(sound_file_dir)+\"*.wav\")\n",
    "    for file in li:\n",
    "        mfccs, chroma, mel, contrast,tonnetz = get_features(file)\n",
    "        ext_features = np.hstack([mfccs,chroma,mel,contrast,tonnetz])\n",
    "        features = np.vstack([features,ext_features])\n",
    "        labels = np.append(labels, li[0].split('/')[3].split('.')[0])\n",
    "    return np.array(features), np.array(labels, dtype = np.int)"
   ]
  },
  {
   "cell_type": "code",
   "execution_count": 39,
   "metadata": {},
   "outputs": [],
   "source": [
    "def oneHotEncodeLabel(label: str) -> np.array:\n",
    "    ret = np.zeros(len(LABELS))\n",
    "    ret[np.where(LABELS == label)] = 1\n",
    "    return ret"
   ]
  },
  {
   "cell_type": "code",
   "execution_count": 40,
   "metadata": {},
   "outputs": [],
   "source": [
    "def featurization(filepath):\n",
    "    #with open(filepath, 'r') as f:\n",
    "    \n",
    "    mfccs, chroma, mel, contrast,tonnetz = get_features(filepath)\n",
    "    l = filepath.split('/')[3].split('.')[0]\n",
    "    labels = df_train[df_train.ID==int(l)].Class.values[0]\n",
    "    pbar.update(1)\n",
    "    return mfccs, chroma, mel, contrast, tonnetz, labels"
   ]
  },
  {
   "cell_type": "code",
   "execution_count": 47,
   "metadata": {},
   "outputs": [],
   "source": [
    "def featurization_test(filepath):\n",
    "    mfccs, chroma, mel, contrast,tonnetz = get_features(filepath)\n",
    "    l = filepath.split('/')[3].split('.')[0]\n",
    "    pbar.update(1)\n",
    "    return mfccs, chroma, mel, contrast, tonnetz, l"
   ]
  },
  {
   "cell_type": "code",
   "execution_count": 41,
   "metadata": {},
   "outputs": [],
   "source": [
    "import logging\n",
    "mpl_logger = logging.getLogger('matplotlib')\n",
    "mpl_logger.setLevel(logging.WARNING)\n",
    "\n",
    "import warnings\n",
    "warnings.filterwarnings(\"ignore\", category=UserWarning)"
   ]
  },
  {
   "cell_type": "code",
   "execution_count": 21,
   "metadata": {},
   "outputs": [],
   "source": [
    "from multiprocessing import Pool\n",
    "from functools import reduce\n",
    "from tqdm import tqdm_notebook as tqdm\n",
    "import time"
   ]
  },
  {
   "cell_type": "code",
   "execution_count": 34,
   "metadata": {},
   "outputs": [],
   "source": [
    "li = glob.glob('urban-sound-classification/train/Train/'+\"*.wav\")\n",
    "li_te = glob.glob('urban-sound-classification/test/Test/'+\"*.wav\")"
   ]
  },
  {
   "cell_type": "markdown",
   "metadata": {},
   "source": [
    "## PREPROCESSING FOR MLP"
   ]
  },
  {
   "cell_type": "code",
   "execution_count": 44,
   "metadata": {},
   "outputs": [
    {
     "data": {
      "application/vnd.jupyter.widget-view+json": {
       "model_id": "0ceaf951804c4c11ba4ba7adc2e47160",
       "version_major": 2,
       "version_minor": 0
      },
      "text/plain": [
       "HBox(children=(IntProgress(value=0, max=10), HTML(value='')))"
      ]
     },
     "metadata": {},
     "output_type": "display_data"
    }
   ],
   "source": [
    "logging.basicConfig(level=logging.DEBUG)\n",
    "features = []\n",
    "labels = []\n",
    "def update(*a):\n",
    "    X = np.hstack(a[0][:-1])\n",
    "    y = oneHotEncodeLabel(a[0][-1])\n",
    "    features.append(X)\n",
    "    labels.append(y)\n",
    "    pbar.update()\n",
    "\n",
    "if __name__ == '__main__':\n",
    "    num_processes = int(12)\n",
    "    before = time.time()\n",
    "    pool = Pool(processes=num_processes)\n",
    "    pbar = tqdm(total=len(li[:10]))\n",
    "    for f in li[:10]:\n",
    "        pool.apply_async(featurization, args=(f,), callback=update)"
   ]
  },
  {
   "cell_type": "code",
   "execution_count": 46,
   "metadata": {},
   "outputs": [],
   "source": [
    "features, labels = np.array(features), np.array(labels)"
   ]
  },
  {
   "cell_type": "code",
   "execution_count": null,
   "metadata": {},
   "outputs": [],
   "source": [
    "print(\"features shape:\",features.shape,\"and labels shape:\", labels.shape)"
   ]
  },
  {
   "cell_type": "code",
   "execution_count": null,
   "metadata": {},
   "outputs": [],
   "source": [
    "#np.save('train.npy',features)\n",
    "#np.save('train_labels.npy',labels)"
   ]
  },
  {
   "cell_type": "code",
   "execution_count": 48,
   "metadata": {},
   "outputs": [
    {
     "data": {
      "application/vnd.jupyter.widget-view+json": {
       "model_id": "26665ec8b5194e41bc070eac529e294a",
       "version_major": 2,
       "version_minor": 0
      },
      "text/plain": [
       "HBox(children=(IntProgress(value=0, max=10), HTML(value='')))"
      ]
     },
     "metadata": {},
     "output_type": "display_data"
    }
   ],
   "source": [
    "logging.basicConfig(level=logging.DEBUG)\n",
    "features_te = []\n",
    "file_id = []\n",
    "def update(*a):\n",
    "    X = np.hstack(a[0][:-1])\n",
    "    features_te.append(X)\n",
    "    file_id.append(a[0][-1])\n",
    "    pbar.update()\n",
    "\n",
    "# if __name__ == '__main__':\n",
    "num_processes = int(14)\n",
    "before = time.time()\n",
    "pool = Pool(processes=num_processes)\n",
    "pbar = tqdm(total=len(li_te[:10]))\n",
    "for f in li_te[:10]:\n",
    "    pool.apply_async(featurization_test, args=(f,), callback=update)\n",
    "pool.close()\n",
    "pool.join()"
   ]
  },
  {
   "cell_type": "code",
   "execution_count": 49,
   "metadata": {},
   "outputs": [],
   "source": [
    "features_te = np.array(features_te)"
   ]
  },
  {
   "cell_type": "code",
   "execution_count": null,
   "metadata": {},
   "outputs": [],
   "source": [
    "#np.save('test.npy',features_te)\n",
    "#np.save('file_id.npy',file_id)"
   ]
  },
  {
   "cell_type": "code",
   "execution_count": null,
   "metadata": {},
   "outputs": [],
   "source": []
  },
  {
   "cell_type": "markdown",
   "metadata": {},
   "source": [
    "## FOR  CREATING IMAGES"
   ]
  },
  {
   "cell_type": "code",
   "execution_count": 22,
   "metadata": {},
   "outputs": [],
   "source": [
    "def save_image(filepath,file_dir):\n",
    "    data, sr = librosa.load(filepath)\n",
    "\n",
    "    window_size = 1024\n",
    "    window = np.hanning(window_size)\n",
    "    stft  = librosa.core.spectrum.stft(data, n_fft=window_size, hop_length=512, window=window)\n",
    "    out = 2 * np.abs(stft) / np.sum(window)\n",
    "\n",
    "    # For plotting headlessly\n",
    "    from matplotlib.backends.backend_agg import FigureCanvasAgg as FigureCanvas\n",
    "    l = filepath.split('/')[3].split('.')[0]\n",
    "\n",
    "    fig = plt.Figure()\n",
    "    canvas = FigureCanvas(fig)\n",
    "    ax = fig.add_subplot(111)\n",
    "    ax.axes.get_xaxis().set_visible(False)\n",
    "    ax.axes.get_yaxis().set_visible(False)\n",
    "    ax.set_frame_on(False)\n",
    "    p = librosa.display.specshow(librosa.amplitude_to_db(out, ref=np.max), ax=ax, y_axis='log', x_axis='time')\n",
    "    fig.savefig(file_dir+str(l)+'.png',dpi=50, bbox_inches='tight', pad_inches=0)"
   ]
  },
  {
   "cell_type": "code",
   "execution_count": 23,
   "metadata": {},
   "outputs": [
    {
     "data": {
      "application/vnd.jupyter.widget-view+json": {
       "model_id": "b95d416fb497451fbb0082dd21fc74c4",
       "version_major": 2,
       "version_minor": 0
      },
      "text/plain": [
       "HBox(children=(IntProgress(value=0, max=10), HTML(value='')))"
      ]
     },
     "metadata": {},
     "output_type": "display_data"
    }
   ],
   "source": [
    "## TRAIN\n",
    "'''logging.basicConfig(level=logging.DEBUG)\n",
    "def update(*a):\n",
    "    pbar.update()\n",
    "\n",
    "# if __name__ == '__main__':\n",
    "num_processes = int(14)\n",
    "before = time.time()\n",
    "pool = Pool(processes=num_processes)\n",
    "pbar = tqdm(total=len(li))\n",
    "file_directory = 'train/'\n",
    "for f in li:\n",
    "    pool.apply_async(save_image, args=(f,file_directory), callback=update)\n",
    "pool.close()\n",
    "pool.join()'''"
   ]
  },
  {
   "cell_type": "code",
   "execution_count": 36,
   "metadata": {},
   "outputs": [
    {
     "data": {
      "application/vnd.jupyter.widget-view+json": {
       "model_id": "5d9b0231fd3e41c0922522da133b70d1",
       "version_major": 2,
       "version_minor": 0
      },
      "text/plain": [
       "HBox(children=(IntProgress(value=0, max=10), HTML(value='')))"
      ]
     },
     "metadata": {},
     "output_type": "display_data"
    }
   ],
   "source": [
    "## TEST\n",
    "'''logging.basicConfig(level=logging.DEBUG)\n",
    "def update(*a):\n",
    "    pbar.update()\n",
    "\n",
    "# if __name__ == '__main__':\n",
    "num_processes = int(14)\n",
    "before = time.time()\n",
    "pool = Pool(processes=num_processes)\n",
    "pbar = tqdm(total=len(li_te))\n",
    "file_directory = 'test/'\n",
    "for f in li_te:\n",
    "    pool.apply_async(save_image, args=(f,file_directory), callback=update)\n",
    "pool.close()\n",
    "pool.join()'''"
   ]
  },
  {
   "cell_type": "code",
   "execution_count": 26,
   "metadata": {},
   "outputs": [],
   "source": [
    "img_tr = glob.glob('train/'+\"*.png\")"
   ]
  },
  {
   "cell_type": "code",
   "execution_count": 30,
   "metadata": {},
   "outputs": [],
   "source": [
    "from matplotlib import image\n",
    "def save_image_array(filename,file_dir):\n",
    "    img_data = image.imread(filename)\n",
    "    l = filename.split('/')[1].split('.')[0]\n",
    "    np.save(file_dir+str(l)+'.npy',img_data)"
   ]
  },
  {
   "cell_type": "code",
   "execution_count": 32,
   "metadata": {},
   "outputs": [
    {
     "data": {
      "application/vnd.jupyter.widget-view+json": {
       "model_id": "d54fb60bfc1146369cf68bd6c587aa44",
       "version_major": 2,
       "version_minor": 0
      },
      "text/plain": [
       "HBox(children=(IntProgress(value=0, max=5445), HTML(value='')))"
      ]
     },
     "metadata": {},
     "output_type": "display_data"
    }
   ],
   "source": [
    "## TRAIN\n",
    "logging.basicConfig(level=logging.DEBUG)\n",
    "def update(*a):\n",
    "    pbar.update()\n",
    "\n",
    "# if __name__ == '__main__':\n",
    "num_processes = int(14)\n",
    "before = time.time()\n",
    "pool = Pool(processes=num_processes)\n",
    "file = img_tr\n",
    "pbar = tqdm(total=len(file))\n",
    "file_directory = 'train_npy_img/'\n",
    "for f in file:\n",
    "    pool.apply_async(save_image_array, args=(f,file_directory), callback=update)\n",
    "pool.close()\n",
    "pool.join()"
   ]
  },
  {
   "cell_type": "code",
   "execution_count": 33,
   "metadata": {},
   "outputs": [],
   "source": [
    "img_te = glob.glob('test/'+\"*.png\")"
   ]
  },
  {
   "cell_type": "code",
   "execution_count": null,
   "metadata": {},
   "outputs": [],
   "source": [
    "## TEST\n",
    "'''logging.basicConfig(level=logging.DEBUG)\n",
    "def update(*a):\n",
    "    pbar.update()\n",
    "\n",
    "# if __name__ == '__main__':\n",
    "num_processes = int(14)\n",
    "before = time.time()\n",
    "pool = Pool(processes=num_processes)\n",
    "file = img_te\n",
    "pbar = tqdm(total=len(file))\n",
    "file_directory = 'test_npy/'\n",
    "for f in file:\n",
    "    pool.apply_async(save_image_array, args=(f,file_directory), callback=update)\n",
    "pool.close()\n",
    "pool.join()'''"
   ]
  },
  {
   "cell_type": "code",
   "execution_count": null,
   "metadata": {},
   "outputs": [],
   "source": []
  }
 ],
 "metadata": {
  "kernelspec": {
   "display_name": "Python 3",
   "language": "python",
   "name": "python3"
  },
  "language_info": {
   "codemirror_mode": {
    "name": "ipython",
    "version": 3
   },
   "file_extension": ".py",
   "mimetype": "text/x-python",
   "name": "python",
   "nbconvert_exporter": "python",
   "pygments_lexer": "ipython3",
   "version": "3.7.3"
  }
 },
 "nbformat": 4,
 "nbformat_minor": 1
}
