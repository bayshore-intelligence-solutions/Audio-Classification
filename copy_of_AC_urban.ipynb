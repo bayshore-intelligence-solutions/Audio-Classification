{
 "cells": [
  {
   "cell_type": "markdown",
   "metadata": {},
   "source": [
    "# Urban Sound Classification\n",
    "## Data Description\n",
    "The dataset contains 8732 labeled sound excerpts (<=4s) of urban sounds from 10 classes: - \n",
    "- Air Conditioner \n",
    "- Car Horn \n",
    "- Children Playing \n",
    "- Dog bark \n",
    "- Drilling \n",
    "- Engine Idling \n",
    "- Gun Shot \n",
    "- Jackhammer \n",
    "- Siren Street \n",
    "- Music "
   ]
  },
  {
   "cell_type": "code",
   "execution_count": 1,
   "metadata": {
    "_cell_guid": "b1076dfc-b9ad-4769-8c92-a6c4dae69d19",
    "_uuid": "8f2839f25d086af736a60e9eeb907d3b93b6e0e5"
   },
   "outputs": [
    {
     "name": "stdout",
     "output_type": "stream",
     "text": [
      "['img', 'test.csv', 'train.csv', 'train', 'test']\n"
     ]
    }
   ],
   "source": [
    "# This Python 3 environment comes with many helpful analytics libraries installed\n",
    "# It is defined by the kaggle/python docker image: https://github.com/kaggle/docker-python\n",
    "# For example, here's several helpful packages to load in \n",
    "\n",
    "import numpy as np # linear algebra\n",
    "import pandas as pd # data processing, CSV file I/O (e.g. pd.read_csv)\n",
    "\n",
    "# Input data files are available in the \"../input/\" directory.\n",
    "# For example, running this (by clicking run or pressing Shift+Enter) will list the files in the input directory\n",
    "\n",
    "import os\n",
    "import glob\n",
    "\n",
    "print(os.listdir(\"urban-sound-classification\"))\n",
    "\n",
    "# Any results you write to the current directory are saved as output."
   ]
  },
  {
   "cell_type": "code",
   "execution_count": 2,
   "metadata": {},
   "outputs": [
    {
     "name": "stdout",
     "output_type": "stream",
     "text": [
      "Train Size:  (5435, 2)\n",
      "Test Size:  (3297, 1)\n"
     ]
    }
   ],
   "source": [
    "df_train = pd.read_csv('urban-sound-classification/train.csv')\n",
    "df_test = pd.read_csv('urban-sound-classification/test.csv')\n",
    "\n",
    "print('Train Size: ', df_train.shape)\n",
    "print('Test Size: ', df_test.shape)"
   ]
  },
  {
   "cell_type": "code",
   "execution_count": 3,
   "metadata": {},
   "outputs": [],
   "source": [
    "LABELS = df_train.Class.unique()"
   ]
  },
  {
   "cell_type": "code",
   "execution_count": 5,
   "metadata": {},
   "outputs": [
    {
     "data": {
      "text/html": [
       "<div>\n",
       "<style scoped>\n",
       "    .dataframe tbody tr th:only-of-type {\n",
       "        vertical-align: middle;\n",
       "    }\n",
       "\n",
       "    .dataframe tbody tr th {\n",
       "        vertical-align: top;\n",
       "    }\n",
       "\n",
       "    .dataframe thead th {\n",
       "        text-align: right;\n",
       "    }\n",
       "</style>\n",
       "<table border=\"1\" class=\"dataframe\">\n",
       "  <thead>\n",
       "    <tr style=\"text-align: right;\">\n",
       "      <th></th>\n",
       "      <th>ID</th>\n",
       "      <th>Class</th>\n",
       "    </tr>\n",
       "  </thead>\n",
       "  <tbody>\n",
       "    <tr>\n",
       "      <th>0</th>\n",
       "      <td>0</td>\n",
       "      <td>siren</td>\n",
       "    </tr>\n",
       "    <tr>\n",
       "      <th>1</th>\n",
       "      <td>1</td>\n",
       "      <td>street_music</td>\n",
       "    </tr>\n",
       "    <tr>\n",
       "      <th>2</th>\n",
       "      <td>2</td>\n",
       "      <td>drilling</td>\n",
       "    </tr>\n",
       "    <tr>\n",
       "      <th>3</th>\n",
       "      <td>3</td>\n",
       "      <td>siren</td>\n",
       "    </tr>\n",
       "    <tr>\n",
       "      <th>4</th>\n",
       "      <td>4</td>\n",
       "      <td>dog_bark</td>\n",
       "    </tr>\n",
       "  </tbody>\n",
       "</table>\n",
       "</div>"
      ],
      "text/plain": [
       "   ID         Class\n",
       "0   0         siren\n",
       "1   1  street_music\n",
       "2   2      drilling\n",
       "3   3         siren\n",
       "4   4      dog_bark"
      ]
     },
     "execution_count": 5,
     "metadata": {},
     "output_type": "execute_result"
    }
   ],
   "source": [
    "df_train.head()"
   ]
  },
  {
   "cell_type": "code",
   "execution_count": 22,
   "metadata": {},
   "outputs": [],
   "source": [
    "import matplotlib.pyplot as plt\n",
    "import warnings\n",
    "import matplotlib.cbook\n",
    "warnings.filterwarnings(\"ignore\",category=matplotlib.cbook.mplDeprecation)\n",
    "plt.style.use('seaborn-white')\n",
    "%config InlineBackend.figure_format = 'retina'"
   ]
  },
  {
   "cell_type": "code",
   "execution_count": 255,
   "metadata": {},
   "outputs": [],
   "source": [
    "X = np.load('train.npy') \n",
    "y_hot = np.load('train_labels.npy')"
   ]
  },
  {
   "cell_type": "code",
   "execution_count": 256,
   "metadata": {},
   "outputs": [],
   "source": [
    "from sklearn.model_selection import train_test_split\n",
    "X_train, X_test, y_train, y_test = train_test_split(X, y_hot, test_size= 0.25, random_state=True, shuffle=True)"
   ]
  },
  {
   "cell_type": "code",
   "execution_count": 257,
   "metadata": {},
   "outputs": [],
   "source": [
    "from sklearn import preprocessing\n",
    "X_train = preprocessing.scale(X_train)\n",
    "X_test = preprocessing.scale(X_test)"
   ]
  },
  {
   "cell_type": "code",
   "execution_count": 258,
   "metadata": {},
   "outputs": [],
   "source": [
    "X_eval = np.load('test.npy') "
   ]
  },
  {
   "cell_type": "code",
   "execution_count": 259,
   "metadata": {},
   "outputs": [],
   "source": [
    "X_eval = preprocessing.scale(X_eval)"
   ]
  },
  {
   "cell_type": "code",
   "execution_count": 260,
   "metadata": {},
   "outputs": [],
   "source": [
    "# some model parameters\n",
    "output_dim = 10\n",
    "input_dim = X_train.shape[1]\n",
    "\n",
    "batch_size = 256\n",
    "nb_epoch = 50"
   ]
  },
  {
   "cell_type": "code",
   "execution_count": 262,
   "metadata": {},
   "outputs": [],
   "source": [
    "def plot_graph():\n",
    "    print(history.history.keys())\n",
    "    plt.figure(1)\n",
    "    # summarize history for accuracy\n",
    "    plt.subplot(211)\n",
    "    plt.plot(history.history['acc'])\n",
    "    plt.plot(history.history['val_acc'])\n",
    "    plt.title('model accuracy')\n",
    "    plt.ylabel('accuracy')\n",
    "    plt.xlabel('epoch')\n",
    "    plt.legend(['train', 'test'], loc='upper left')\n",
    "    # summarize history for loss\n",
    "    plt.subplot(212)\n",
    "    plt.plot(history.history['loss'])\n",
    "    plt.plot(history.history['val_loss'])\n",
    "    plt.title('model loss')\n",
    "    plt.ylabel('loss')\n",
    "    plt.xlabel('epoch')\n",
    "    plt.legend(['train', 'test'], loc='upper left')\n",
    "    plt.tight_layout()\n",
    "    plt.show()"
   ]
  },
  {
   "cell_type": "code",
   "execution_count": 263,
   "metadata": {},
   "outputs": [],
   "source": [
    "# start building a model\n",
    "import keras\n",
    "from keras.models import Sequential \n",
    "from keras.layers import Dense, Activation, BatchNormalization, Dropout\n",
    "import warnings\n",
    "warnings.filterwarnings(\"ignore\")\n",
    "model1 = Sequential()\n",
    "\n",
    "model1.add(Dense(512, activation='relu', input_shape=(input_dim,), kernel_initializer = keras.initializers.he_normal(seed=None)))\n",
    "model1.add(BatchNormalization())\n",
    "model1.add(Dropout(0.3))\n",
    "\n",
    "model1.add(Dense(256, activation='relu', kernel_initializer= keras.initializers.he_normal(seed=None)))\n",
    "model1.add(BatchNormalization())\n",
    "model1.add(Dropout(0.25))\n",
    "\n",
    "model1.add(Dense(output_dim, activation='softmax'))"
   ]
  },
  {
   "cell_type": "code",
   "execution_count": 264,
   "metadata": {},
   "outputs": [
    {
     "name": "stdout",
     "output_type": "stream",
     "text": [
      "_________________________________________________________________\n",
      "Layer (type)                 Output Shape              Param #   \n",
      "=================================================================\n",
      "dense_48 (Dense)             (None, 512)               99328     \n",
      "_________________________________________________________________\n",
      "batch_normalization_19 (Batc (None, 512)               2048      \n",
      "_________________________________________________________________\n",
      "dropout_34 (Dropout)         (None, 512)               0         \n",
      "_________________________________________________________________\n",
      "dense_49 (Dense)             (None, 256)               131328    \n",
      "_________________________________________________________________\n",
      "batch_normalization_20 (Batc (None, 256)               1024      \n",
      "_________________________________________________________________\n",
      "dropout_35 (Dropout)         (None, 256)               0         \n",
      "_________________________________________________________________\n",
      "dense_50 (Dense)             (None, 10)                2570      \n",
      "=================================================================\n",
      "Total params: 236,298\n",
      "Trainable params: 234,762\n",
      "Non-trainable params: 1,536\n",
      "_________________________________________________________________\n"
     ]
    }
   ],
   "source": [
    "model1.summary()"
   ]
  },
  {
   "cell_type": "code",
   "execution_count": 265,
   "metadata": {},
   "outputs": [
    {
     "name": "stdout",
     "output_type": "stream",
     "text": [
      "Compiling model...\n"
     ]
    }
   ],
   "source": [
    "# initialize the optimizer and model\n",
    "print(\"Compiling model...\")\n",
    "model1.compile(optimizer='adam', loss='categorical_crossentropy', metrics=['accuracy'])"
   ]
  },
  {
   "cell_type": "code",
   "execution_count": 266,
   "metadata": {},
   "outputs": [
    {
     "name": "stdout",
     "output_type": "stream",
     "text": [
      "Train on 4076 samples, validate on 1359 samples\n",
      "Epoch 1/50\n",
      "4076/4076 [==============================] - 1s 362us/step - loss: 1.8422 - acc: 0.4154 - val_loss: 1.0333 - val_acc: 0.6836\n",
      "Epoch 2/50\n",
      "4076/4076 [==============================] - 0s 17us/step - loss: 0.9989 - acc: 0.6877 - val_loss: 0.7429 - val_acc: 0.7873\n",
      "Epoch 3/50\n",
      "4076/4076 [==============================] - 0s 19us/step - loss: 0.7261 - acc: 0.7755 - val_loss: 0.5997 - val_acc: 0.8175\n",
      "Epoch 4/50\n",
      "4076/4076 [==============================] - 0s 18us/step - loss: 0.5880 - acc: 0.8172 - val_loss: 0.5176 - val_acc: 0.8492\n",
      "Epoch 5/50\n",
      "4076/4076 [==============================] - 0s 18us/step - loss: 0.5119 - acc: 0.8432 - val_loss: 0.4567 - val_acc: 0.8653\n",
      "Epoch 6/50\n",
      "4076/4076 [==============================] - 0s 18us/step - loss: 0.4299 - acc: 0.8633 - val_loss: 0.4131 - val_acc: 0.8801\n",
      "Epoch 7/50\n",
      "4076/4076 [==============================] - 0s 17us/step - loss: 0.3840 - acc: 0.8808 - val_loss: 0.3804 - val_acc: 0.8874\n",
      "Epoch 8/50\n",
      "4076/4076 [==============================] - 0s 18us/step - loss: 0.3364 - acc: 0.8923 - val_loss: 0.3531 - val_acc: 0.8977\n",
      "Epoch 9/50\n",
      "4076/4076 [==============================] - 0s 18us/step - loss: 0.3096 - acc: 0.9041 - val_loss: 0.3251 - val_acc: 0.9088\n",
      "Epoch 10/50\n",
      "4076/4076 [==============================] - 0s 17us/step - loss: 0.2635 - acc: 0.9166 - val_loss: 0.3002 - val_acc: 0.9139\n",
      "Epoch 11/50\n",
      "4076/4076 [==============================] - 0s 18us/step - loss: 0.2444 - acc: 0.9195 - val_loss: 0.2853 - val_acc: 0.9169\n",
      "Epoch 12/50\n",
      "4076/4076 [==============================] - 0s 18us/step - loss: 0.2211 - acc: 0.9296 - val_loss: 0.2667 - val_acc: 0.9227\n",
      "Epoch 13/50\n",
      "4076/4076 [==============================] - 0s 17us/step - loss: 0.1891 - acc: 0.9382 - val_loss: 0.2619 - val_acc: 0.9235\n",
      "Epoch 14/50\n",
      "4076/4076 [==============================] - 0s 17us/step - loss: 0.1741 - acc: 0.9428 - val_loss: 0.2470 - val_acc: 0.9264\n",
      "Epoch 15/50\n",
      "4076/4076 [==============================] - 0s 18us/step - loss: 0.1554 - acc: 0.9534 - val_loss: 0.2402 - val_acc: 0.9286\n",
      "Epoch 16/50\n",
      "4076/4076 [==============================] - 0s 18us/step - loss: 0.1529 - acc: 0.9546 - val_loss: 0.2309 - val_acc: 0.9345\n",
      "Epoch 17/50\n",
      "4076/4076 [==============================] - 0s 17us/step - loss: 0.1397 - acc: 0.9580 - val_loss: 0.2305 - val_acc: 0.9352\n",
      "Epoch 18/50\n",
      "4076/4076 [==============================] - 0s 18us/step - loss: 0.1309 - acc: 0.9588 - val_loss: 0.2220 - val_acc: 0.9323\n",
      "Epoch 19/50\n",
      "4076/4076 [==============================] - 0s 18us/step - loss: 0.1224 - acc: 0.9649 - val_loss: 0.2092 - val_acc: 0.9367\n",
      "Epoch 20/50\n",
      "4076/4076 [==============================] - 0s 18us/step - loss: 0.1183 - acc: 0.9637 - val_loss: 0.2063 - val_acc: 0.9375\n",
      "Epoch 21/50\n",
      "4076/4076 [==============================] - 0s 20us/step - loss: 0.1090 - acc: 0.9661 - val_loss: 0.1997 - val_acc: 0.9367\n",
      "Epoch 22/50\n",
      "4076/4076 [==============================] - 0s 18us/step - loss: 0.0967 - acc: 0.9730 - val_loss: 0.1980 - val_acc: 0.9389\n",
      "Epoch 23/50\n",
      "4076/4076 [==============================] - 0s 18us/step - loss: 0.0875 - acc: 0.9737 - val_loss: 0.1970 - val_acc: 0.9411\n",
      "Epoch 24/50\n",
      "4076/4076 [==============================] - 0s 20us/step - loss: 0.0764 - acc: 0.9811 - val_loss: 0.1899 - val_acc: 0.9419\n",
      "Epoch 25/50\n",
      "4076/4076 [==============================] - 0s 18us/step - loss: 0.0818 - acc: 0.9730 - val_loss: 0.1830 - val_acc: 0.9441\n",
      "Epoch 26/50\n",
      "4076/4076 [==============================] - 0s 19us/step - loss: 0.0737 - acc: 0.9804 - val_loss: 0.1874 - val_acc: 0.9419\n",
      "Epoch 27/50\n",
      "4076/4076 [==============================] - 0s 18us/step - loss: 0.0666 - acc: 0.9809 - val_loss: 0.1841 - val_acc: 0.9426\n",
      "Epoch 28/50\n",
      "4076/4076 [==============================] - 0s 18us/step - loss: 0.0643 - acc: 0.9823 - val_loss: 0.1788 - val_acc: 0.9448\n",
      "Epoch 29/50\n",
      "4076/4076 [==============================] - 0s 17us/step - loss: 0.0624 - acc: 0.9823 - val_loss: 0.1839 - val_acc: 0.9419\n",
      "Epoch 30/50\n",
      "4076/4076 [==============================] - 0s 19us/step - loss: 0.0642 - acc: 0.9806 - val_loss: 0.1840 - val_acc: 0.9448\n",
      "Epoch 31/50\n",
      "4076/4076 [==============================] - 0s 18us/step - loss: 0.0539 - acc: 0.9850 - val_loss: 0.1778 - val_acc: 0.9433\n",
      "Epoch 32/50\n",
      "4076/4076 [==============================] - 0s 18us/step - loss: 0.0560 - acc: 0.9843 - val_loss: 0.1800 - val_acc: 0.9463\n",
      "Epoch 33/50\n",
      "4076/4076 [==============================] - 0s 17us/step - loss: 0.0511 - acc: 0.9853 - val_loss: 0.1782 - val_acc: 0.9463\n",
      "Epoch 34/50\n",
      "4076/4076 [==============================] - 0s 17us/step - loss: 0.0493 - acc: 0.9850 - val_loss: 0.1836 - val_acc: 0.9470\n",
      "Epoch 35/50\n",
      "4076/4076 [==============================] - 0s 19us/step - loss: 0.0457 - acc: 0.9868 - val_loss: 0.1760 - val_acc: 0.9478\n",
      "Epoch 36/50\n",
      "4076/4076 [==============================] - 0s 17us/step - loss: 0.0410 - acc: 0.9907 - val_loss: 0.1737 - val_acc: 0.9478\n",
      "Epoch 37/50\n",
      "4076/4076 [==============================] - 0s 16us/step - loss: 0.0461 - acc: 0.9877 - val_loss: 0.1730 - val_acc: 0.9492\n",
      "Epoch 38/50\n",
      "4076/4076 [==============================] - 0s 16us/step - loss: 0.0413 - acc: 0.9899 - val_loss: 0.1709 - val_acc: 0.9507\n",
      "Epoch 39/50\n",
      "4076/4076 [==============================] - 0s 16us/step - loss: 0.0419 - acc: 0.9902 - val_loss: 0.1720 - val_acc: 0.9507\n",
      "Epoch 40/50\n",
      "4076/4076 [==============================] - 0s 18us/step - loss: 0.0395 - acc: 0.9880 - val_loss: 0.1730 - val_acc: 0.9470\n",
      "Epoch 41/50\n",
      "4076/4076 [==============================] - 0s 16us/step - loss: 0.0356 - acc: 0.9919 - val_loss: 0.1746 - val_acc: 0.9485\n",
      "Epoch 42/50\n",
      "4076/4076 [==============================] - 0s 15us/step - loss: 0.0336 - acc: 0.9926 - val_loss: 0.1741 - val_acc: 0.9500\n",
      "Epoch 43/50\n",
      "4076/4076 [==============================] - 0s 15us/step - loss: 0.0319 - acc: 0.9924 - val_loss: 0.1787 - val_acc: 0.9522\n",
      "Epoch 44/50\n",
      "4076/4076 [==============================] - 0s 15us/step - loss: 0.0300 - acc: 0.9939 - val_loss: 0.1841 - val_acc: 0.9448\n",
      "Epoch 45/50\n",
      "4076/4076 [==============================] - 0s 15us/step - loss: 0.0336 - acc: 0.9904 - val_loss: 0.1804 - val_acc: 0.9478\n",
      "Epoch 46/50\n",
      "4076/4076 [==============================] - 0s 19us/step - loss: 0.0294 - acc: 0.9921 - val_loss: 0.1743 - val_acc: 0.9507\n",
      "Epoch 47/50\n",
      "4076/4076 [==============================] - 0s 17us/step - loss: 0.0344 - acc: 0.9912 - val_loss: 0.1738 - val_acc: 0.9500\n",
      "Epoch 48/50\n",
      "4076/4076 [==============================] - 0s 16us/step - loss: 0.0296 - acc: 0.9926 - val_loss: 0.1750 - val_acc: 0.9478\n",
      "Epoch 49/50\n",
      "4076/4076 [==============================] - 0s 16us/step - loss: 0.0281 - acc: 0.9936 - val_loss: 0.1731 - val_acc: 0.9492\n",
      "Epoch 50/50\n",
      "4076/4076 [==============================] - 0s 16us/step - loss: 0.0310 - acc: 0.9919 - val_loss: 0.1666 - val_acc: 0.9500\n"
     ]
    }
   ],
   "source": [
    "history = model1.fit(X_train, y_train, batch_size=batch_size, epochs=nb_epoch, verbose=1, validation_data=(X_test, y_test))"
   ]
  },
  {
   "cell_type": "code",
   "execution_count": 267,
   "metadata": {},
   "outputs": [
    {
     "name": "stdout",
     "output_type": "stream",
     "text": [
      "dict_keys(['val_loss', 'val_acc', 'loss', 'acc'])\n"
     ]
    },
    {
     "data": {
      "image/png": "[encoded data removed]",
      "text/plain": [
       "<Figure size 432x288 with 2 Axes>"
      ]
     },
     "metadata": {
      "needs_background": "light"
     },
     "output_type": "display_data"
    }
   ],
   "source": [
    "import matplotlib.pyplot as plt\n",
    "plot_graph()"
   ]
  },
  {
   "cell_type": "code",
   "execution_count": 268,
   "metadata": {},
   "outputs": [
    {
     "name": "stdout",
     "output_type": "stream",
     "text": [
      "evaluating...\n",
      "1359/1359 [==============================] - 0s 33us/step\n",
      "accuracy: 95.00%\n",
      "loss: 0.17\n"
     ]
    }
   ],
   "source": [
    "# show the accuracy on the testing set\n",
    "print(\"evaluating...\")\n",
    "(loss1, accuracy1) = model1.evaluate(X_test, y_test, verbose=1)\n",
    "print(\"accuracy: {:.2f}%\".format(accuracy1 * 100))\n",
    "print(\"loss: {:.2f}\".format(loss1))"
   ]
  },
  {
   "cell_type": "code",
   "execution_count": 269,
   "metadata": {},
   "outputs": [],
   "source": [
    "pred = model1.predict_classes(X_train)"
   ]
  },
  {
   "cell_type": "code",
   "execution_count": 270,
   "metadata": {},
   "outputs": [],
   "source": [
    "actual = np.argmax(y_train, axis=1)"
   ]
  },
  {
   "cell_type": "code",
   "execution_count": 271,
   "metadata": {},
   "outputs": [],
   "source": [
    "from sklearn.metrics import confusion_matrix\n",
    "\n",
    "y_true = LABELS[actual]\n",
    "y_pred = LABELS[pred]\n",
    "classes=LABELS\n",
    "\n",
    "cnf_matrix = confusion_matrix(y_true, y_pred, labels=classes)"
   ]
  },
  {
   "cell_type": "code",
   "execution_count": 272,
   "metadata": {},
   "outputs": [],
   "source": [
    "# https://datascience.stackexchange.com/questions/40067/confusion-matrix-three-classes-python\n",
    "import itertools\n",
    "def plot_confusion_matrix(cm, classes,\n",
    "                          normalize=False,\n",
    "                          title='Confusion matrix',\n",
    "                          cmap=plt.cm.Blues):\n",
    "    \"\"\"\n",
    "    This function prints and plots the confusion matrix.\n",
    "    Normalization can be applied by setting `normalize=True`.\n",
    "    \"\"\"\n",
    "    if normalize:\n",
    "        cm = cm.astype('float') / cm.sum(axis=1)[:, np.newaxis]\n",
    "        print(\"Normalized confusion matrix\")\n",
    "    else:\n",
    "        print('Confusion matrix, without normalization')\n",
    "\n",
    "    print(cm)\n",
    "\n",
    "    plt.imshow(cm, interpolation='nearest', cmap=cmap)\n",
    "    plt.title(title)\n",
    "    plt.colorbar()\n",
    "    tick_marks = np.arange(len(classes))\n",
    "    plt.xticks(tick_marks, classes, rotation=45)\n",
    "    plt.yticks(tick_marks, classes)\n",
    "\n",
    "    fmt = '.2f' if normalize else 'd'\n",
    "    thresh = cm.max() / 2.\n",
    "    for i, j in itertools.product(range(cm.shape[0]), range(cm.shape[1])):\n",
    "        plt.text(j, i, format(cm[i, j], fmt),\n",
    "                 horizontalalignment=\"center\",\n",
    "                 color=\"white\" if cm[i, j] > thresh else \"black\")\n",
    "\n",
    "    plt.ylabel('True label')\n",
    "    plt.xlabel('Predicted label')\n",
    "    plt.tight_layout()"
   ]
  },
  {
   "cell_type": "code",
   "execution_count": 273,
   "metadata": {},
   "outputs": [
    {
     "name": "stdout",
     "output_type": "stream",
     "text": [
      "Confusion matrix, without normalization\n",
      "[[449   0   0   0   0   0   0   0   0   0]\n",
      " [  0 458   0   0   0   0   0   0   0   0]\n",
      " [  0   0 440   0   0   0   0   0   0   0]\n",
      " [  0   0   0 447   0   0   0   0   0   0]\n",
      " [  0   0   0   0 437   0   0   0   0   0]\n",
      " [  0   0   0   0   0 169   0   0   0   0]\n",
      " [  0   0   0   0   0   0 484   0   0   0]\n",
      " [  0   0   0   0   0   0   0 451   0   0]\n",
      " [  0   1   0   0   0   0   0   0 516   0]\n",
      " [  0   0   0   0   0   0   0   0   0 224]]\n"
     ]
    },
    {
     "data": {
      "image/png": "[encoded data removed]",
      "text/plain": [
       "<Figure size 432x288 with 2 Axes>"
      ]
     },
     "metadata": {
      "needs_background": "light"
     },
     "output_type": "display_data"
    }
   ],
   "source": [
    "np.set_printoptions(precision=2)\n",
    "\n",
    "# Plot non-normalized confusion matrix\n",
    "plt.figure()\n",
    "plot_confusion_matrix(cnf_matrix, classes=classes,\n",
    "                      title='Confusion matrix, without normalization')"
   ]
  },
  {
   "cell_type": "code",
   "execution_count": 274,
   "metadata": {},
   "outputs": [],
   "source": [
    "# make a prediction\n",
    "ynew = model1.predict_classes(X_eval)\n",
    "# show the inputs and predicted outputs\n",
    "#print(\"X=%s, Predicted=%s\" % (Xnew[0], ynew[0]))"
   ]
  },
  {
   "cell_type": "code",
   "execution_count": 275,
   "metadata": {},
   "outputs": [],
   "source": [
    "lab = LABELS[ynew]"
   ]
  },
  {
   "cell_type": "code",
   "execution_count": 276,
   "metadata": {},
   "outputs": [],
   "source": [
    "file_id = np.load('file_id.npy')"
   ]
  },
  {
   "cell_type": "code",
   "execution_count": 277,
   "metadata": {},
   "outputs": [],
   "source": [
    "df = pd.DataFrame(list(zip(lab,file_id)),columns=['Class','ID'])\n",
    "df.ID = df.ID.astype('int64')\n",
    "df = df.sort_values('ID')\n",
    "df.to_csv(r'solution1.csv',index=None)"
   ]
  },
  {
   "cell_type": "code",
   "execution_count": 278,
   "metadata": {},
   "outputs": [
    {
     "data": {
      "text/plain": [
       "Class    False\n",
       "ID        True\n",
       "dtype: bool"
      ]
     },
     "execution_count": 278,
     "metadata": {},
     "output_type": "execute_result"
    }
   ],
   "source": [
    "d1 = pd.read_csv('solution1.csv')\n",
    "d2 = pd.read_csv('solution.csv')\n",
    "(d1==d2).all()"
   ]
  },
  {
   "cell_type": "code",
   "execution_count": 280,
   "metadata": {},
   "outputs": [],
   "source": [
    "#model1.save_weights(\"model_1.h5\")\n",
    "model1.save('model_1.h5')"
   ]
  }
 ],
 "metadata": {
  "kernelspec": {
   "display_name": "Python 3",
   "language": "python",
   "name": "python3"
  },
  "language_info": {
   "codemirror_mode": {
    "name": "ipython",
    "version": 3
   },
   "file_extension": ".py",
   "mimetype": "text/x-python",
   "name": "python",
   "nbconvert_exporter": "python",
   "pygments_lexer": "ipython3",
   "version": "3.7.3"
  }
 },
 "nbformat": 4,
 "nbformat_minor": 1
}
